{
 "cells": [
  {
   "cell_type": "code",
   "execution_count": 1,
   "id": "933e31f7",
   "metadata": {},
   "outputs": [],
   "source": [
    "import pandas as pd\n",
    "import numpy as np\n",
    "import matplotlib.pyplot as plt\n",
    "import seaborn as sns\n",
    "sns.set_palette('husl')\n",
    "from sklearn.model_selection import train_test_split\n",
    "import warnings\n",
    "warnings.filterwarnings('ignore')\n",
    "from sklearn.pipeline import Pipeline\n",
    "from sklearn.preprocessing import OneHotEncoder,  StandardScaler\n",
    "from sklearn.svm import SVC\n",
    "from sklearn.neighbors import KNeighborsClassifier\n",
    "from sklearn.linear_model import LogisticRegression\n",
    "from sklearn.naive_bayes import GaussianNB\n",
    "from sklearn.ensemble import RandomForestClassifier\n",
    "from sklearn.tree import DecisionTreeClassifier\n",
    "import os\n",
    "from sklearn.metrics import auc, precision_recall_curve, log_loss,confusion_matrix, recall_score, precision_score\n",
    "from sklearn.compose import ColumnTransformer"
   ]
  },
  {
   "cell_type": "code",
   "execution_count": 2,
   "id": "701470e7",
   "metadata": {},
   "outputs": [],
   "source": [
    "df_iris = pd.read_csv(\n",
    "    'https://raw.githubusercontent.com/uiuc-cse/data-fa14/gh-pages/data/iris.csv')"
   ]
  },
  {
   "cell_type": "code",
   "execution_count": 3,
   "id": "b20735fd",
   "metadata": {},
   "outputs": [
    {
     "data": {
      "text/html": [
       "<div>\n",
       "<style scoped>\n",
       "    .dataframe tbody tr th:only-of-type {\n",
       "        vertical-align: middle;\n",
       "    }\n",
       "\n",
       "    .dataframe tbody tr th {\n",
       "        vertical-align: top;\n",
       "    }\n",
       "\n",
       "    .dataframe thead th {\n",
       "        text-align: right;\n",
       "    }\n",
       "</style>\n",
       "<table border=\"1\" class=\"dataframe\">\n",
       "  <thead>\n",
       "    <tr style=\"text-align: right;\">\n",
       "      <th></th>\n",
       "      <th>sepal_length</th>\n",
       "      <th>sepal_width</th>\n",
       "      <th>petal_length</th>\n",
       "      <th>petal_width</th>\n",
       "      <th>species</th>\n",
       "    </tr>\n",
       "  </thead>\n",
       "  <tbody>\n",
       "    <tr>\n",
       "      <th>0</th>\n",
       "      <td>5.1</td>\n",
       "      <td>3.5</td>\n",
       "      <td>1.4</td>\n",
       "      <td>0.2</td>\n",
       "      <td>setosa</td>\n",
       "    </tr>\n",
       "    <tr>\n",
       "      <th>1</th>\n",
       "      <td>4.9</td>\n",
       "      <td>3.0</td>\n",
       "      <td>1.4</td>\n",
       "      <td>0.2</td>\n",
       "      <td>setosa</td>\n",
       "    </tr>\n",
       "    <tr>\n",
       "      <th>2</th>\n",
       "      <td>4.7</td>\n",
       "      <td>3.2</td>\n",
       "      <td>1.3</td>\n",
       "      <td>0.2</td>\n",
       "      <td>setosa</td>\n",
       "    </tr>\n",
       "    <tr>\n",
       "      <th>3</th>\n",
       "      <td>4.6</td>\n",
       "      <td>3.1</td>\n",
       "      <td>1.5</td>\n",
       "      <td>0.2</td>\n",
       "      <td>setosa</td>\n",
       "    </tr>\n",
       "    <tr>\n",
       "      <th>4</th>\n",
       "      <td>5.0</td>\n",
       "      <td>3.6</td>\n",
       "      <td>1.4</td>\n",
       "      <td>0.2</td>\n",
       "      <td>setosa</td>\n",
       "    </tr>\n",
       "  </tbody>\n",
       "</table>\n",
       "</div>"
      ],
      "text/plain": [
       "   sepal_length  sepal_width  petal_length  petal_width species\n",
       "0           5.1          3.5           1.4          0.2  setosa\n",
       "1           4.9          3.0           1.4          0.2  setosa\n",
       "2           4.7          3.2           1.3          0.2  setosa\n",
       "3           4.6          3.1           1.5          0.2  setosa\n",
       "4           5.0          3.6           1.4          0.2  setosa"
      ]
     },
     "execution_count": 3,
     "metadata": {},
     "output_type": "execute_result"
    }
   ],
   "source": [
    "df_iris.head()"
   ]
  },
  {
   "cell_type": "markdown",
   "id": "a42965af",
   "metadata": {},
   "source": [
    "### Let´s analyse the dataset"
   ]
  },
  {
   "cell_type": "code",
   "execution_count": 4,
   "id": "66cca2bd",
   "metadata": {},
   "outputs": [
    {
     "data": {
      "text/html": [
       "<div>\n",
       "<style scoped>\n",
       "    .dataframe tbody tr th:only-of-type {\n",
       "        vertical-align: middle;\n",
       "    }\n",
       "\n",
       "    .dataframe tbody tr th {\n",
       "        vertical-align: top;\n",
       "    }\n",
       "\n",
       "    .dataframe thead th {\n",
       "        text-align: right;\n",
       "    }\n",
       "</style>\n",
       "<table border=\"1\" class=\"dataframe\">\n",
       "  <thead>\n",
       "    <tr style=\"text-align: right;\">\n",
       "      <th></th>\n",
       "      <th>sepal_length</th>\n",
       "      <th>sepal_width</th>\n",
       "      <th>petal_length</th>\n",
       "      <th>petal_width</th>\n",
       "    </tr>\n",
       "  </thead>\n",
       "  <tbody>\n",
       "    <tr>\n",
       "      <th>count</th>\n",
       "      <td>150.000000</td>\n",
       "      <td>150.000000</td>\n",
       "      <td>150.000000</td>\n",
       "      <td>150.000000</td>\n",
       "    </tr>\n",
       "    <tr>\n",
       "      <th>mean</th>\n",
       "      <td>5.843333</td>\n",
       "      <td>3.054000</td>\n",
       "      <td>3.758667</td>\n",
       "      <td>1.198667</td>\n",
       "    </tr>\n",
       "    <tr>\n",
       "      <th>std</th>\n",
       "      <td>0.828066</td>\n",
       "      <td>0.433594</td>\n",
       "      <td>1.764420</td>\n",
       "      <td>0.763161</td>\n",
       "    </tr>\n",
       "    <tr>\n",
       "      <th>min</th>\n",
       "      <td>4.300000</td>\n",
       "      <td>2.000000</td>\n",
       "      <td>1.000000</td>\n",
       "      <td>0.100000</td>\n",
       "    </tr>\n",
       "    <tr>\n",
       "      <th>25%</th>\n",
       "      <td>5.100000</td>\n",
       "      <td>2.800000</td>\n",
       "      <td>1.600000</td>\n",
       "      <td>0.300000</td>\n",
       "    </tr>\n",
       "    <tr>\n",
       "      <th>50%</th>\n",
       "      <td>5.800000</td>\n",
       "      <td>3.000000</td>\n",
       "      <td>4.350000</td>\n",
       "      <td>1.300000</td>\n",
       "    </tr>\n",
       "    <tr>\n",
       "      <th>75%</th>\n",
       "      <td>6.400000</td>\n",
       "      <td>3.300000</td>\n",
       "      <td>5.100000</td>\n",
       "      <td>1.800000</td>\n",
       "    </tr>\n",
       "    <tr>\n",
       "      <th>max</th>\n",
       "      <td>7.900000</td>\n",
       "      <td>4.400000</td>\n",
       "      <td>6.900000</td>\n",
       "      <td>2.500000</td>\n",
       "    </tr>\n",
       "  </tbody>\n",
       "</table>\n",
       "</div>"
      ],
      "text/plain": [
       "       sepal_length  sepal_width  petal_length  petal_width\n",
       "count    150.000000   150.000000    150.000000   150.000000\n",
       "mean       5.843333     3.054000      3.758667     1.198667\n",
       "std        0.828066     0.433594      1.764420     0.763161\n",
       "min        4.300000     2.000000      1.000000     0.100000\n",
       "25%        5.100000     2.800000      1.600000     0.300000\n",
       "50%        5.800000     3.000000      4.350000     1.300000\n",
       "75%        6.400000     3.300000      5.100000     1.800000\n",
       "max        7.900000     4.400000      6.900000     2.500000"
      ]
     },
     "execution_count": 4,
     "metadata": {},
     "output_type": "execute_result"
    }
   ],
   "source": [
    "df_iris.describe()"
   ]
  },
  {
   "cell_type": "code",
   "execution_count": 5,
   "id": "15e3edf7",
   "metadata": {},
   "outputs": [
    {
     "data": {
      "text/plain": [
       "['sepal_length', 'sepal_width', 'petal_length', 'petal_width', 'species']"
      ]
     },
     "execution_count": 5,
     "metadata": {},
     "output_type": "execute_result"
    }
   ],
   "source": [
    "# features\n",
    "df_iris.columns.tolist()"
   ]
  },
  {
   "cell_type": "code",
   "execution_count": 6,
   "id": "8141e352",
   "metadata": {},
   "outputs": [
    {
     "data": {
      "text/plain": [
       "sepal_length    35\n",
       "sepal_width     23\n",
       "petal_length    43\n",
       "petal_width     22\n",
       "species          3\n",
       "dtype: int64"
      ]
     },
     "execution_count": 6,
     "metadata": {},
     "output_type": "execute_result"
    }
   ],
   "source": [
    "df_iris.nunique()"
   ]
  },
  {
   "cell_type": "code",
   "execution_count": 7,
   "id": "78cd8006",
   "metadata": {},
   "outputs": [
    {
     "name": "stdout",
     "output_type": "stream",
     "text": [
      "<class 'pandas.core.frame.DataFrame'>\n",
      "RangeIndex: 150 entries, 0 to 149\n",
      "Data columns (total 5 columns):\n",
      " #   Column        Non-Null Count  Dtype  \n",
      "---  ------        --------------  -----  \n",
      " 0   sepal_length  150 non-null    float64\n",
      " 1   sepal_width   150 non-null    float64\n",
      " 2   petal_length  150 non-null    float64\n",
      " 3   petal_width   150 non-null    float64\n",
      " 4   species       150 non-null    object \n",
      "dtypes: float64(4), object(1)\n",
      "memory usage: 6.0+ KB\n"
     ]
    }
   ],
   "source": [
    "df_iris.info()"
   ]
  },
  {
   "cell_type": "code",
   "execution_count": 8,
   "id": "1553d9bb",
   "metadata": {},
   "outputs": [
    {
     "data": {
      "text/plain": [
       "setosa        50\n",
       "versicolor    50\n",
       "virginica     50\n",
       "Name: species, dtype: int64"
      ]
     },
     "execution_count": 8,
     "metadata": {},
     "output_type": "execute_result"
    }
   ],
   "source": [
    "# how many example we have of each species\n",
    "\n",
    "df_iris['species'].value_counts()"
   ]
  },
  {
   "cell_type": "markdown",
   "id": "35ef3d83",
   "metadata": {},
   "source": [
    "### Model Creation"
   ]
  },
  {
   "cell_type": "markdown",
   "id": "f0241a6c",
   "metadata": {},
   "source": [
    "Before we start creating the model, we need check if the features are higly correlated. This problem can reduce the accuracy"
   ]
  },
  {
   "cell_type": "code",
   "execution_count": 9,
   "id": "e7d9661d",
   "metadata": {},
   "outputs": [
    {
     "data": {
      "image/png": "[encoded data removed]",
      "text/plain": [
       "<Figure size 720x720 with 2 Axes>"
      ]
     },
     "metadata": {
      "needs_background": "light"
     },
     "output_type": "display_data"
    }
   ],
   "source": [
    "plt.figure(figsize = (10,10))\n",
    "\n",
    "sns.heatmap(df_iris.corr(), annot=True)\n",
    "plt.show()"
   ]
  },
  {
   "cell_type": "markdown",
   "id": "00d607de",
   "metadata": {},
   "source": [
    "Sepal_width is not correlating with any of the Features, whereas Petal_length and Petal_width is highly correlating with all of the features"
   ]
  },
  {
   "cell_type": "code",
   "execution_count": 10,
   "id": "cd6b73f4",
   "metadata": {},
   "outputs": [],
   "source": [
    "df_train, df_test = train_test_split(df_iris,test_size=0.3,random_state=42)"
   ]
  },
  {
   "cell_type": "code",
   "execution_count": 11,
   "id": "9a010919",
   "metadata": {},
   "outputs": [],
   "source": [
    "X_train, y_train = df_train.drop('species', axis=1), df_train['species']\n",
    "X_test, y_test = df_test.drop('species', axis=1), df_test['species']"
   ]
  },
  {
   "cell_type": "code",
   "execution_count": 12,
   "id": "0ee4216b",
   "metadata": {},
   "outputs": [],
   "source": [
    "cat_columns_churn = X_train.select_dtypes(include=['object']).columns.tolist()\n",
    "num_columns_churn = X_train.select_dtypes(exclude=['object']).columns.tolist()"
   ]
  },
  {
   "cell_type": "code",
   "execution_count": 13,
   "id": "36e23622",
   "metadata": {},
   "outputs": [],
   "source": [
    "pipe_cat_columns_churn = ('one_hot_encoder' , \n",
    "                         OneHotEncoder(handle_unknown = 'ignore'),\n",
    "                         cat_columns_churn)\n",
    "pipe_num_columns_churn = ('scaler',\n",
    "                         StandardScaler(),\n",
    "                         num_columns_churn)"
   ]
  },
  {
   "cell_type": "code",
   "execution_count": 14,
   "id": "cc132163",
   "metadata": {},
   "outputs": [],
   "source": [
    "# creating the Pipeline\n",
    "\n",
    "transformers = [pipe_num_columns_churn, pipe_cat_columns_churn]\n",
    "pre_processor = ColumnTransformer(transformers)\n"
   ]
  },
  {
   "cell_type": "code",
   "execution_count": 16,
   "id": "2aeba39e",
   "metadata": {},
   "outputs": [],
   "source": [
    "model_reglog = Pipeline(steps=[('pre_processor' , pre_processor),\n",
    "                               ('model' , LogisticRegression(max_iter=5000, random_state =123))])\n",
    "model_svm = Pipeline(steps=[('pre_processor', pre_processor),\n",
    "                            ('model', SVC(kernel='rbf', probability=True, random_state=123))])\n",
    "model_knn = Pipeline(steps=[('pre_processor', pre_processor),\n",
    "                            ('model', KNeighborsClassifier())])\n",
    "model_dt = Pipeline(steps=[('pre_processor', pre_processor),\n",
    "                            ('model', DecisionTreeClassifier(max_depth=5,random_state=123))])\n",
    "model_rf = Pipeline(steps=[('pre_processor', pre_processor),\n",
    "                            ('model', RandomForestClassifier(max_depth=5,random_state=123))])"
   ]
  },
  {
   "cell_type": "code",
   "execution_count": 17,
   "id": "6e16f6e5",
   "metadata": {},
   "outputs": [
    {
     "name": "stdout",
     "output_type": "stream",
     "text": [
      "LogisticRegression \n",
      "\n",
      "log_loss train: 0.16023028064799139\n",
      "log_loss test: 0.1171706815073894\n",
      "----------------------------------------------------------------------------------------------------\n",
      "SVC \n",
      "\n",
      "log_loss train: 0.11523030108008371\n",
      "log_loss test: 0.07121605934182691\n",
      "----------------------------------------------------------------------------------------------------\n",
      "KNeighborsClassifier \n",
      "\n",
      "log_loss train: 0.11538942368538413\n",
      "log_loss test: 0.06380751509296109\n",
      "----------------------------------------------------------------------------------------------------\n",
      "DecisionTreeClassifier \n",
      "\n",
      "log_loss train: 0.018186119094137948\n",
      "log_loss test: 4.440892098500627e-16\n",
      "----------------------------------------------------------------------------------------------------\n",
      "RandomForestClassifier \n",
      "\n",
      "log_loss train: 0.046211007386047234\n",
      "log_loss test: 0.025898361714231752\n",
      "----------------------------------------------------------------------------------------------------\n"
     ]
    }
   ],
   "source": [
    "classifiers = [model_reglog, model_svm, model_knn, model_dt, model_rf]\n",
    "for classifier in classifiers:\n",
    "    classifier.fit(X_train, y_train)\n",
    "    print(type(classifier['model']).__name__,'\\n')\n",
    "    print(f'log_loss train: {log_loss(y_train, classifier.predict_proba(X_train))}')\n",
    "    print(f'log_loss test: {log_loss(y_test, classifier.predict_proba(X_test))}')\n",
    "    print(100*'-')\n"
   ]
  },
  {
   "cell_type": "markdown",
   "id": "2e2cc5a7",
   "metadata": {},
   "source": [
    "we gonna choose the Random Forest Classifier, because this model have the lower Log Loss in the train dataset and test dataset"
   ]
  }
 ],
 "metadata": {
  "kernelspec": {
   "display_name": "Python 3 (ipykernel)",
   "language": "python",
   "name": "python3"
  },
  "language_info": {
   "codemirror_mode": {
    "name": "ipython",
    "version": 3
   },
   "file_extension": ".py",
   "mimetype": "text/x-python",
   "name": "python",
   "nbconvert_exporter": "python",
   "pygments_lexer": "ipython3",
   "version": "3.9.12"
  }
 },
 "nbformat": 4,
 "nbformat_minor": 5
}
