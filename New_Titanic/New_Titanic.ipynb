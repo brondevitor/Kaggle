{
 "cells": [
  {
   "cell_type": "code",
   "execution_count": null,
   "id": "0bebc8e0",
   "metadata": {},
   "outputs": [],
   "source": [
    "import pandas as pd\n",
    "import numpy as np\n",
    "import matplotlib.pyplot as plt\n",
    "import seaborn as sns\n",
    "from sklearn.impute import SimpleImputer \n",
    "import warnings\n",
    "warnings.simplefilter('ignore')\n",
    "from sklearn.preprocessing import StandardScaler , MinMaxScaler\n",
    "from sklearn.neighbors import KNeighborsClassifier\n",
    "from sklearn.tree import DecisionTreeClassifier\n",
    "from sklearn.model_selection import cross_val_score\n",
    "from sklearn.model_selection import train_test_split\n",
    "from sklearn.preprocessing import StandardScaler\n",
    "from sklearn.metrics import  f1_score, auc, precision_recall_curve, recall_score , precision_score\n",
    "from sklearn.ensemble import RandomForestClassifier\n",
    "from sklearn.linear_model import LogisticRegression\n",
    "pd.options.display.max_rows = 4000"
   ]
  },
  {
   "cell_type": "code",
   "execution_count": null,
   "id": "e6e02bc6",
   "metadata": {},
   "outputs": [],
   "source": [
    "df_base_titanic = pd.read_csv('train.csv')\n",
    "df_base_test =pd.read_csv('test.csv')\n",
    "df_base_titanic.head()"
   ]
  },
  {
   "cell_type": "code",
   "execution_count": null,
   "id": "55e7cc68",
   "metadata": {},
   "outputs": [],
   "source": [
    "df_base_test.head()"
   ]
  },
  {
   "cell_type": "markdown",
   "id": "b254a6d4",
   "metadata": {},
   "source": [
    "### Exploring the dataset"
   ]
  },
  {
   "cell_type": "code",
   "execution_count": null,
   "id": "809f7621",
   "metadata": {},
   "outputs": [],
   "source": [
    "print(df_base_titanic.shape[0] , 'X' , df_base_titanic.shape[1])"
   ]
  },
  {
   "cell_type": "markdown",
   "id": "15bed86a",
   "metadata": {},
   "source": [
    "The dataset have 8693 rows and 14 columns "
   ]
  },
  {
   "cell_type": "code",
   "execution_count": null,
   "id": "074f0306",
   "metadata": {},
   "outputs": [],
   "source": [
    "df_base_titanic.info()"
   ]
  },
  {
   "cell_type": "markdown",
   "id": "d9f994b2",
   "metadata": {},
   "source": [
    "We noticed several categorical features, mainly referring to services, which can be transformed into dummies, in order to analyze the impact of the passenger having used the service in the fact of having been teleported or not."
   ]
  },
  {
   "cell_type": "code",
   "execution_count": null,
   "id": "93da265c",
   "metadata": {},
   "outputs": [],
   "source": [
    "df_base_titanic.describe()"
   ]
  },
  {
   "cell_type": "markdown",
   "id": "d4cc81d0",
   "metadata": {},
   "source": [
    "Some features only show values ​​in the last quartile.\n",
    "It would also be interesting to do the same analysis with categorical features like dummies"
   ]
  },
  {
   "cell_type": "markdown",
   "id": "e47a8119",
   "metadata": {},
   "source": [
    "### Analyze how much of the base is missing values"
   ]
  },
  {
   "cell_type": "code",
   "execution_count": null,
   "id": "a604166c",
   "metadata": {},
   "outputs": [],
   "source": [
    "df_base_titanic.isna().sum()"
   ]
  },
  {
   "cell_type": "code",
   "execution_count": null,
   "id": "38cc2eda",
   "metadata": {},
   "outputs": [],
   "source": [
    "# improving this insight, let's analyze how much missing data represents each feature\n",
    "nan_ratio = []\n",
    "for col in df_base_titanic.columns :\n",
    "    nan_item = []\n",
    "    nan_item.append(col)\n",
    "    nan_item.append(df_base_titanic[col].isnull().sum())\n",
    "    nan_item.append(str(round(100*df_base_titanic[col].isnull().sum() / df_base_titanic.shape[0], 2 ))+ '%')\n",
    "    nan_ratio.append(nan_item)\n",
    "    \n",
    "df_nan = pd.DataFrame(nan_ratio, columns=[\"Column\", \"NaN count\", \"NaN ratio\"]).set_index(\"Column\")\n",
    "df_nan = df_nan.sort_values(\"NaN ratio\", ascending=False)\n",
    "df_nan.astype(object).T"
   ]
  },
  {
   "cell_type": "markdown",
   "id": "7c856d0f",
   "metadata": {},
   "source": [
    "Features have about 2.5% of the data as NaN , which is a low percentage"
   ]
  },
  {
   "cell_type": "markdown",
   "id": "49a002ae",
   "metadata": {},
   "source": [
    "Only the PassengerID and Transported features do not have any Na"
   ]
  },
  {
   "cell_type": "markdown",
   "id": "8d6890f0",
   "metadata": {},
   "source": [
    "### Analyze if the base is unbalanced"
   ]
  },
  {
   "cell_type": "code",
   "execution_count": null,
   "id": "adb1225f",
   "metadata": {},
   "outputs": [],
   "source": [
    "df_base_titanic['Transported'].value_counts(normalize = True)"
   ]
  },
  {
   "cell_type": "markdown",
   "id": "6509fb1b",
   "metadata": {},
   "source": [
    "The percentage of transported and not transported is almost equal. So we don't have an imbalance problem here"
   ]
  },
  {
   "cell_type": "code",
   "execution_count": null,
   "id": "069a1b48",
   "metadata": {},
   "outputs": [],
   "source": [
    "df_base_titanic['Transported'] = np.where(df_base_titanic['Transported'] == True, 1, 0)"
   ]
  },
  {
   "cell_type": "markdown",
   "id": "c92ed64c",
   "metadata": {},
   "source": [
    "### Analyze features and handle missing data"
   ]
  },
  {
   "cell_type": "markdown",
   "id": "eefa0444",
   "metadata": {},
   "source": [
    "#1 HomePlanet"
   ]
  },
  {
   "cell_type": "code",
   "execution_count": null,
   "id": "686d2503",
   "metadata": {},
   "outputs": [],
   "source": [
    "fig, ax = plt.subplots(1, 2, figsize=(20,6))\n",
    "fig.suptitle('Origen Distribution', size = 20, weight='bold')\n",
    "\n",
    "sizes = (df_base_titanic['HomePlanet'].value_counts(sort=False))\n",
    "\n",
    "labels = df_base_titanic['HomePlanet'].dropna().unique()\n",
    "colors = ['#099FFF', '#CC00FF', '#13CA91']\n",
    "explode = (0.05,0.05,0.05) \n",
    "\n",
    "ax[0].pie(sizes, colors=colors, explode=explode, startangle=90, labels=labels,\n",
    "       autopct='%1.2f%%', pctdistance=0.6,textprops={'fontsize':12})\n",
    "sns.countplot(x='HomePlanet', data=df_base_titanic, hue='Transported', ax=ax[1])"
   ]
  },
  {
   "cell_type": "raw",
   "id": "dda12673",
   "metadata": {},
   "source": [
    "1 - Most passengers came from Earth\n",
    "2 - Passengers coming from Europe have the highest chance of being transported\n",
    "3 - Passengers coming from Earth have a lower chance of being transported, when compared to others\n",
    "4 - For passengers coming from Mars, the chance of being teleported is almost equal to that of not being"
   ]
  },
  {
   "cell_type": "markdown",
   "id": "9afaef85",
   "metadata": {},
   "source": [
    "As we verified above that there are few missing values ​​in each feature (approximately 2.5%), in categorical variables we will use to fill these data with the most frequent data.\n",
    "For this we will use Sklearn's SimpleImputer function, with the parameter strategy='most_frequent'"
   ]
  },
  {
   "cell_type": "code",
   "execution_count": null,
   "id": "8c491e0a",
   "metadata": {},
   "outputs": [],
   "source": [
    "most_imputer = SimpleImputer(missing_values = np.nan,\n",
    "                            strategy = 'most_frequent')"
   ]
  },
  {
   "cell_type": "code",
   "execution_count": null,
   "id": "93e4bfac",
   "metadata": {},
   "outputs": [],
   "source": [
    "df_base_titanic.HomePlanet = most_imputer.fit_transform(df_base_titanic[['HomePlanet']])\n",
    "df_base_test.HomePlanet = most_imputer.fit_transform(df_base_test[['HomePlanet']])"
   ]
  },
  {
   "cell_type": "markdown",
   "id": "ca1221c2",
   "metadata": {},
   "source": [
    "#2 CryoSleep"
   ]
  },
  {
   "cell_type": "code",
   "execution_count": null,
   "id": "8e9bb3f1",
   "metadata": {},
   "outputs": [],
   "source": [
    "fig, ax = plt.subplots(1, 2, figsize=(20,6))\n",
    "fig.suptitle('CryoSleep Distribution', size = 20, weight='bold')\n",
    "\n",
    "sizes = (df_base_titanic['CryoSleep'].value_counts())\n",
    "\n",
    "labels = df_base_titanic['CryoSleep'].dropna().unique()\n",
    "colors = ['#099FFF', '#CC00FF']\n",
    "\n",
    "ax[0].pie(sizes, colors=colors,  startangle=90, labels=labels,\n",
    "       autopct='%1.2f%%', pctdistance=0.6,textprops={'fontsize':12})\n",
    "sns.countplot(x='CryoSleep', data=df_base_titanic, hue='Transported', ax=ax[1])"
   ]
  },
  {
   "cell_type": "raw",
   "id": "f546cd66",
   "metadata": {},
   "source": [
    "1 - only 35.8% of passengers wanted to travel in CryoSleep\n",
    "2 - Passengers who did not opt ​​for CryoSleep were much less likely to be teleported"
   ]
  },
  {
   "cell_type": "code",
   "execution_count": null,
   "id": "5b0cd0cd",
   "metadata": {},
   "outputs": [],
   "source": [
    "df_base_titanic.CryoSleep = most_imputer.fit_transform(df_base_titanic[['CryoSleep']])\n",
    "df_base_test.CryoSleep = most_imputer.fit_transform(df_base_test[['CryoSleep']])"
   ]
  },
  {
   "cell_type": "code",
   "execution_count": null,
   "id": "76e7515e",
   "metadata": {},
   "outputs": [],
   "source": [
    "df_base_titanic['CryoSleep'] = np.where(df_base_titanic['CryoSleep'] == True , 1 , 0)\n",
    "df_base_test['CryoSleep'] = np.where(df_base_test['CryoSleep'] == True , 1 , 0)\n"
   ]
  },
  {
   "cell_type": "markdown",
   "id": "62f539be",
   "metadata": {},
   "source": [
    "#3 Cabin"
   ]
  },
  {
   "cell_type": "markdown",
   "id": "22458cbf",
   "metadata": {},
   "source": [
    "We need to handle the Feature Cabin. In the documentation it is written that the cabin number is composed of deck/num/side, where side can be P for port and S for starboard. Let's create a two new features with this information"
   ]
  },
  {
   "cell_type": "code",
   "execution_count": null,
   "id": "5d64e8f3",
   "metadata": {},
   "outputs": [],
   "source": [
    "df_base_titanic['Cabin']"
   ]
  },
  {
   "cell_type": "code",
   "execution_count": null,
   "id": "493f9daa",
   "metadata": {},
   "outputs": [],
   "source": [
    "# Removing all the lines where we don't have the cabin information, as we can't assume any value for them. \n",
    "df_base_titanic['Cabin'] = df_base_titanic['Cabin'].fillna(0)\n",
    "df_base_test['Cabin'] = df_base_test['Cabin'].fillna(0)"
   ]
  },
  {
   "cell_type": "code",
   "execution_count": null,
   "id": "4404e6de",
   "metadata": {},
   "outputs": [],
   "source": [
    "df_base_titanic['Cabin'] = df_base_titanic['Cabin'].astype(str)\n",
    "df_base_test['Cabin'] = df_base_test['Cabin'].astype(str)"
   ]
  },
  {
   "cell_type": "code",
   "execution_count": null,
   "id": "bb47d68f",
   "metadata": {},
   "outputs": [],
   "source": [
    "df_base_titanic.info()"
   ]
  },
  {
   "cell_type": "code",
   "execution_count": null,
   "id": "26223dee",
   "metadata": {},
   "outputs": [],
   "source": [
    "df_cabines = df_base_titanic[\"Cabin\"].str.extract(\"(.*?)/(.*?)/(.)\")\n",
    "df_cabines.columns = [\"Deck\", \"Num\", \"Side\"]\n",
    "\n",
    "df_cabines1 = df_base_test[\"Cabin\"].str.extract(\"(.*?)/(.*?)/(.)\")\n",
    "df_cabines1.columns = [\"Deck\", \"Num\", \"Side\"]"
   ]
  },
  {
   "cell_type": "code",
   "execution_count": null,
   "id": "b9fc12a1",
   "metadata": {},
   "outputs": [],
   "source": [
    "df_cabines[\"PassengerId\"] = df_base_titanic[\"PassengerId\"]\n",
    "df_cabines.dropna(inplace=True)\n",
    "df_cabines.head(4)"
   ]
  },
  {
   "cell_type": "code",
   "execution_count": null,
   "id": "99343fb5",
   "metadata": {},
   "outputs": [],
   "source": [
    "df_cabines1[\"PassengerId\"] = df_base_test[\"PassengerId\"]\n",
    "df_cabines1.dropna(inplace=True)"
   ]
  },
  {
   "cell_type": "code",
   "execution_count": null,
   "id": "2992dd49",
   "metadata": {},
   "outputs": [],
   "source": [
    "df_base_test = df_base_test.merge(df_cabines1 , how='left')\n",
    "df_base_test.drop(['Cabin'], axis=1 , inplace = True)"
   ]
  },
  {
   "cell_type": "code",
   "execution_count": null,
   "id": "1c6500e0",
   "metadata": {},
   "outputs": [],
   "source": [
    "df_base_titanic = df_base_titanic.merge(df_cabines , how='left')\n",
    "df_base_titanic.drop(['Cabin'], axis=1 , inplace = True)\n",
    "df_base_titanic"
   ]
  },
  {
   "cell_type": "code",
   "execution_count": null,
   "id": "e1576aa3",
   "metadata": {},
   "outputs": [],
   "source": [
    "fig, ax = plt.subplots(1, 2, figsize=(22,6))\n",
    "fig.suptitle('Deck Distribution', size = 20, weight='bold')\n",
    "\n",
    "sizes = (df_base_titanic['Deck'].value_counts())\n",
    "\n",
    "labels = df_base_titanic['Deck'].dropna().unique()\n",
    " \n",
    "\n",
    "ax[0].pie(sizes,  startangle=90, labels=labels,\n",
    "       autopct='%1.1f%%', pctdistance=0.5,textprops={'fontsize':10})\n",
    "sns.countplot(x='Deck', data=df_base_titanic, hue='Transported', ax=ax[1])"
   ]
  },
  {
   "cell_type": "raw",
   "id": "77295ac7",
   "metadata": {},
   "source": [
    "1- Most passengers are on Decks F and G\n",
    "2 - Passengers are more likely to be transported if they are on decks B or C"
   ]
  },
  {
   "cell_type": "code",
   "execution_count": null,
   "id": "c7648712",
   "metadata": {},
   "outputs": [],
   "source": [
    "fig, ax = plt.subplots(1, 2, figsize=(20,6))\n",
    "fig.suptitle('Side Distribution', size = 20, weight='bold')\n",
    "\n",
    "sizes = df_base_titanic['Side'].value_counts()\n",
    "\n",
    "labels = df_base_titanic['Side'].dropna().unique()\n",
    " \n",
    "\n",
    "ax[0].pie(sizes,  startangle=90, labels=labels,\n",
    "       autopct='%1.2f%%', pctdistance=0.6,textprops={'fontsize':12})\n",
    "sns.countplot(x='Side', data=df_base_titanic, hue='Transported', ax=ax[1])"
   ]
  },
  {
   "cell_type": "raw",
   "id": "11595d5d",
   "metadata": {},
   "source": [
    "1 - There are almost half the passengers on each side of the ship\n",
    "2 - Passengers on the starboard side are more likely to be transported"
   ]
  },
  {
   "cell_type": "markdown",
   "id": "37468cdf",
   "metadata": {},
   "source": [
    "#4 Destination"
   ]
  },
  {
   "cell_type": "code",
   "execution_count": null,
   "id": "9bccb153",
   "metadata": {},
   "outputs": [],
   "source": [
    "df_base_titanic.Destination.value_counts()"
   ]
  },
  {
   "cell_type": "code",
   "execution_count": null,
   "id": "65d11d00",
   "metadata": {},
   "outputs": [],
   "source": [
    "fig, ax = plt.subplots(1, 2, figsize=(20,6))\n",
    "fig.suptitle('Destination Distribution', size = 20, weight='bold')\n",
    "\n",
    "sizes = df_base_titanic['Destination'].value_counts()\n",
    "\n",
    "labels = df_base_titanic['Destination'].dropna().unique()\n",
    "\n",
    "ax[0].pie(sizes,  startangle=90, labels=labels,\n",
    "       autopct='%1.2f%%', pctdistance=0.6,textprops={'fontsize':12})\n",
    "sns.countplot(x='Destination', data=df_base_titanic, hue='Transported', ax=ax[1])"
   ]
  },
  {
   "cell_type": "raw",
   "id": "32d9ffb7",
   "metadata": {},
   "source": [
    "1 - The vast majority of passengers aim to go to Trappist-1e\n",
    "2 - Passengers with this objective are more likely to not be transported\n",
    "3 - For those who want to go to PSO, the chance of being transported or not is practically the same\n",
    "4 - Passengers bound for 55 Cancri have a greater chance of being transported"
   ]
  },
  {
   "cell_type": "code",
   "execution_count": null,
   "id": "48984e86",
   "metadata": {},
   "outputs": [],
   "source": [
    "df_base_titanic.Destination = most_imputer.fit_transform(df_base_titanic[['Destination']])\n",
    "df_base_test.Destination = most_imputer.fit_transform(df_base_test[['Destination']])"
   ]
  },
  {
   "cell_type": "markdown",
   "id": "5cd600b0",
   "metadata": {},
   "source": [
    "#5 VIP"
   ]
  },
  {
   "cell_type": "code",
   "execution_count": null,
   "id": "cfbd4eba",
   "metadata": {},
   "outputs": [],
   "source": [
    "fig, ax = plt.subplots(1, 2, figsize=(20,6))\n",
    "fig.suptitle('VIP Distribution', size = 20, weight='bold')\n",
    "\n",
    "sizes = (df_base_titanic['VIP'].value_counts())\n",
    "\n",
    "labels = df_base_titanic['VIP'].dropna().unique()\n",
    "colors = ['#099FFF',  '#13CA91' ]\n",
    "explode = (0.05,0.05) \n",
    "\n",
    "ax[0].pie(sizes, colors=colors, explode=explode, startangle=90, labels=labels,\n",
    "       autopct='%1.2f%%', pctdistance=0.6,textprops={'fontsize':12})\n",
    "sns.countplot(x='VIP', data=df_base_titanic, hue='Transported', ax=ax[1])"
   ]
  },
  {
   "cell_type": "markdown",
   "id": "7ceae68d",
   "metadata": {},
   "source": [
    "1 - The vast majority of passengers were not in the VIP category\n",
    "2 - Little difference in probability of being transported to those who are and are not VIPs"
   ]
  },
  {
   "cell_type": "code",
   "execution_count": null,
   "id": "8be81606",
   "metadata": {},
   "outputs": [],
   "source": [
    "df_base_titanic.VIP = most_imputer.fit_transform(df_base_titanic[['VIP']])\n",
    "df_base_test.VIP = most_imputer.fit_transform(df_base_test[['VIP']])"
   ]
  },
  {
   "cell_type": "code",
   "execution_count": null,
   "id": "cff063c5",
   "metadata": {},
   "outputs": [],
   "source": [
    "df_base_titanic['VIP'] = np.where(df_base_titanic['VIP'] == True, 1, 0)\n",
    "df_base_test['VIP'] = np.where(df_base_test['VIP'] == True, 1, 0)"
   ]
  },
  {
   "cell_type": "markdown",
   "id": "153b9b31",
   "metadata": {},
   "source": [
    "#6 PassengerId"
   ]
  },
  {
   "cell_type": "code",
   "execution_count": null,
   "id": "68ad786c",
   "metadata": {},
   "outputs": [],
   "source": [
    "def create_group_id(passenger_id):\n",
    "    splitted_id = passenger_id.split(\"_\")\n",
    "    group_id = splitted_id[1]\n",
    "    return group_id"
   ]
  },
  {
   "cell_type": "code",
   "execution_count": null,
   "id": "e11d688c",
   "metadata": {},
   "outputs": [],
   "source": [
    "df_base_titanic[\"group_id\"] = df_base_titanic[\"PassengerId\"].apply(create_group_id)\n",
    "df_base_titanic[\"group_id\"] = df_base_titanic[\"group_id\"].astype(int)"
   ]
  },
  {
   "cell_type": "code",
   "execution_count": null,
   "id": "d5620d02",
   "metadata": {},
   "outputs": [],
   "source": [
    "df_base_test[\"group_id\"] = df_base_test[\"PassengerId\"].apply(create_group_id)\n",
    "df_base_test[\"group_id\"] = df_base_test[\"group_id\"].astype(int)"
   ]
  },
  {
   "cell_type": "markdown",
   "id": "8a00d20d",
   "metadata": {},
   "source": [
    "### handling numeric variables with fit_transform"
   ]
  },
  {
   "cell_type": "code",
   "execution_count": null,
   "id": "dc7bdb4f",
   "metadata": {},
   "outputs": [],
   "source": [
    "# Applying SimpleImputer to fill the NaN in numeric variables\n",
    "df_base_titanic.Age =  most_imputer.fit_transform(df_base_titanic[['Age']])\n",
    "df_base_titanic.RoomService =  most_imputer.fit_transform(df_base_titanic[['RoomService']])\n",
    "df_base_titanic.FoodCourt =  most_imputer.fit_transform(df_base_titanic[['FoodCourt']])\n",
    "df_base_titanic.ShoppingMall =  most_imputer.fit_transform(df_base_titanic[['ShoppingMall']])\n",
    "df_base_titanic.Spa =  most_imputer.fit_transform(df_base_titanic[['Spa']])\n",
    "df_base_titanic.VRDeck =  most_imputer.fit_transform(df_base_titanic[['VRDeck']])\n",
    "\n",
    "\n",
    "df_base_test.Age =  most_imputer.fit_transform(df_base_test[['Age']])\n",
    "df_base_test.RoomService =  most_imputer.fit_transform(df_base_test[['RoomService']])\n",
    "df_base_test.FoodCourt =  most_imputer.fit_transform(df_base_test[['FoodCourt']])\n",
    "df_base_test.ShoppingMall =  most_imputer.fit_transform(df_base_test[['ShoppingMall']])\n",
    "df_base_test.Spa =  most_imputer.fit_transform(df_base_test[['Spa']])\n",
    "df_base_test.VRDeck =  most_imputer.fit_transform(df_base_test[['VRDeck']])"
   ]
  },
  {
   "cell_type": "code",
   "execution_count": null,
   "id": "51e7adc4",
   "metadata": {},
   "outputs": [],
   "source": [
    "df_base_titanic = pd.get_dummies(df_base_titanic , columns = ['HomePlanet' , 'Destination' , 'Deck' , 'Side'])\n",
    "df_base_test = pd.get_dummies(df_base_test , columns = ['HomePlanet' , 'Destination' , 'Deck' , 'Side'])\n"
   ]
  },
  {
   "cell_type": "code",
   "execution_count": null,
   "id": "53332999",
   "metadata": {},
   "outputs": [],
   "source": [
    "df_base_titanic.head()"
   ]
  },
  {
   "cell_type": "code",
   "execution_count": null,
   "id": "bb90609b",
   "metadata": {},
   "outputs": [],
   "source": [
    "df_base_test.drop(['Name'] , axis =1 , inplace = True)\n",
    "df_base_titanic.drop(['Name'] , axis =1 , inplace = True)"
   ]
  },
  {
   "cell_type": "code",
   "execution_count": null,
   "id": "89c432a9",
   "metadata": {},
   "outputs": [],
   "source": [
    "corr = df_base_titanic.corr()\n",
    "f, ax = plt.subplots(figsize=(15, 15))\n",
    "ax = sns.heatmap(corr, \n",
    "            xticklabels=corr.columns.values,\n",
    "            yticklabels=corr.columns.values)"
   ]
  },
  {
   "cell_type": "code",
   "execution_count": null,
   "id": "228430a7",
   "metadata": {},
   "outputs": [],
   "source": [
    "df_base_titanic.drop(['PassengerId' , 'Num'] , axis =1 , inplace = True)"
   ]
  },
  {
   "cell_type": "code",
   "execution_count": null,
   "id": "33a05a7e",
   "metadata": {},
   "outputs": [],
   "source": [
    "df_base_test.drop(['Num'] , axis =1 , inplace = True)"
   ]
  },
  {
   "cell_type": "markdown",
   "id": "e36c4e9a",
   "metadata": {},
   "source": [
    "### Train and Test Division "
   ]
  },
  {
   "cell_type": "code",
   "execution_count": null,
   "id": "8aec4935",
   "metadata": {},
   "outputs": [],
   "source": [
    "from sklearn.model_selection import train_test_split\n",
    "# import warnings\n",
    "warnings.filterwarnings('ignore')\n",
    "from sklearn.preprocessing import StandardScaler"
   ]
  },
  {
   "cell_type": "code",
   "execution_count": null,
   "id": "e826b6af",
   "metadata": {},
   "outputs": [],
   "source": [
    "df_train, df_test = train_test_split(df_base_titanic,\n",
    "                                         test_size = 0.5 ,\n",
    "                                         random_state = 0)"
   ]
  },
  {
   "cell_type": "code",
   "execution_count": null,
   "id": "1e8764b4",
   "metadata": {},
   "outputs": [],
   "source": [
    "X_train , y_train = df_train.drop('Transported' , axis=1) , df_train['Transported']\n",
    "X_test , y_test = df_test.drop('Transported' , axis=1) , df_test['Transported']"
   ]
  },
  {
   "cell_type": "code",
   "execution_count": null,
   "id": "6416dbff",
   "metadata": {},
   "outputs": [],
   "source": [
    "X_train[['Age' , 'RoomService' , 'FoodCourt' , 'ShoppingMall' , 'Spa', 'VRDeck']] =  MinMaxScaler().fit_transform(X_train[['Age' , \n",
    "                                                                                                                            'RoomService' , \n",
    "                                                                                                                            'FoodCourt' , \n",
    "                                                                                                                            'ShoppingMall',\n",
    "                                                                                                                            'Spa',\n",
    "                                                                                                                            'VRDeck']])"
   ]
  },
  {
   "cell_type": "markdown",
   "id": "70c3557c",
   "metadata": {},
   "source": [
    "Testing some models"
   ]
  },
  {
   "cell_type": "code",
   "execution_count": null,
   "id": "b4494984",
   "metadata": {},
   "outputs": [],
   "source": [
    "clf = DecisionTreeClassifier(criterion=\"gini\")"
   ]
  },
  {
   "cell_type": "code",
   "execution_count": null,
   "id": "95398286",
   "metadata": {},
   "outputs": [],
   "source": [
    "model1 = clf.fit(X_train, y_train)"
   ]
  },
  {
   "cell_type": "code",
   "execution_count": null,
   "id": "fbfbb6f4",
   "metadata": {},
   "outputs": [],
   "source": [
    "allScores = cross_val_score(clf, X_train, y_train , cv=10)\n",
    "allScores.mean() "
   ]
  },
  {
   "cell_type": "code",
   "execution_count": null,
   "id": "7deef099",
   "metadata": {},
   "outputs": [],
   "source": [
    " y_pred = clf.predict(X_test)\n",
    "print('f1_score' ,round(f1_score(y_test, y_pred, average=\"macro\"),4))\n",
    "print('precision_score',round(precision_score(y_test, y_pred, average=\"macro\"),4))\n",
    "print('recall_score', round(recall_score(y_test, y_pred, average=\"macro\"),4)) "
   ]
  },
  {
   "cell_type": "code",
   "execution_count": null,
   "id": "7cd40664",
   "metadata": {},
   "outputs": [],
   "source": [
    "data = pd.DataFrame(clf.feature_importances_,index=list(X_train.columns)).reset_index()\n",
    "importancia = pd.DataFrame(data)\n",
    "importancia = importancia.rename({0: 'importance%'}, axis = 1)\n",
    "importancia = importancia.rename({'index': 'features'}, axis = 1)\n",
    "\n",
    "importancia.sort_values(by='importance%' , ascending = False)"
   ]
  },
  {
   "cell_type": "code",
   "execution_count": null,
   "id": "04e2951d",
   "metadata": {},
   "outputs": [],
   "source": [
    "#RandomForestClassifier"
   ]
  },
  {
   "cell_type": "code",
   "execution_count": null,
   "id": "aa2bb4f2",
   "metadata": {},
   "outputs": [],
   "source": [
    "clf_2 = RandomForestClassifier(max_depth=24) "
   ]
  },
  {
   "cell_type": "code",
   "execution_count": null,
   "id": "6a6d2e61",
   "metadata": {},
   "outputs": [],
   "source": [
    "model2 = clf_2.fit(X_train, y_train)"
   ]
  },
  {
   "cell_type": "code",
   "execution_count": null,
   "id": "9270ba5c",
   "metadata": {},
   "outputs": [],
   "source": [
    "allScores = cross_val_score(clf_2, X_train, y_train , cv=10)\n",
    "allScores.mean() "
   ]
  },
  {
   "cell_type": "code",
   "execution_count": null,
   "id": "2e2d889c",
   "metadata": {},
   "outputs": [],
   "source": [
    "y_pred2 = clf_2.predict(X_test)\n",
    "print('f1_score' ,round(f1_score(y_test, y_pred2, average=\"macro\"),4))\n",
    "print('precision_score',round(precision_score(y_test, y_pred2, average=\"macro\"),4))\n",
    "print('recall_score', round(recall_score(y_test, y_pred2, average=\"macro\"),4)) "
   ]
  },
  {
   "cell_type": "code",
   "execution_count": null,
   "id": "f0fc516e",
   "metadata": {},
   "outputs": [],
   "source": [
    "#KNeighborsClassifier() "
   ]
  },
  {
   "cell_type": "code",
   "execution_count": null,
   "id": "65ee0e89",
   "metadata": {},
   "outputs": [],
   "source": [
    "clf_3 = KNeighborsClassifier() "
   ]
  },
  {
   "cell_type": "code",
   "execution_count": null,
   "id": "5a357c7a",
   "metadata": {},
   "outputs": [],
   "source": [
    "model3 = clf_3.fit(X_train, y_train)"
   ]
  },
  {
   "cell_type": "code",
   "execution_count": null,
   "id": "16d82e9b",
   "metadata": {},
   "outputs": [],
   "source": [
    "allScores = cross_val_score(clf_3, X_train, y_train , cv=10)\n",
    "allScores.mean()"
   ]
  },
  {
   "cell_type": "code",
   "execution_count": null,
   "id": "0322f0c2",
   "metadata": {},
   "outputs": [],
   "source": [
    "y_pred3 = clf_3.predict(X_test)\n",
    "print('f1_score' ,round(f1_score(y_test, y_pred3, average=\"macro\"),4))\n",
    "print('precision_score',round(precision_score(y_test, y_pred3, average=\"macro\"),4))\n",
    "print('recall_score', round(recall_score(y_test, y_pred3, average=\"macro\"),4)) "
   ]
  },
  {
   "cell_type": "code",
   "execution_count": null,
   "id": "1e28776c",
   "metadata": {},
   "outputs": [],
   "source": [
    "#LogisticRegression"
   ]
  },
  {
   "cell_type": "code",
   "execution_count": null,
   "id": "bfd4584f",
   "metadata": {},
   "outputs": [],
   "source": [
    "clf_4 = LogisticRegression(max_iter=5000,  random_state=123)"
   ]
  },
  {
   "cell_type": "code",
   "execution_count": null,
   "id": "0fc7c396",
   "metadata": {},
   "outputs": [],
   "source": [
    "model4 = clf_4.fit(X_train, y_train)"
   ]
  },
  {
   "cell_type": "code",
   "execution_count": null,
   "id": "57d11ce6",
   "metadata": {},
   "outputs": [],
   "source": [
    "allScores = cross_val_score(clf_4, X_train, y_train , cv=10)\n",
    "allScores.mean() # tomamos a média do score"
   ]
  },
  {
   "cell_type": "code",
   "execution_count": null,
   "id": "eecbc657",
   "metadata": {},
   "outputs": [],
   "source": [
    "y_pred4 = clf_4.predict(X_test)\n",
    "print('f1_score' ,round(f1_score(y_test, y_pred4, average=\"macro\"),4))\n",
    "print('precision_score',round(precision_score(y_test, y_pred4, average=\"macro\"),4))\n",
    "print('recall_score', round(recall_score(y_test, y_pred4, average=\"macro\"),4)) "
   ]
  },
  {
   "cell_type": "code",
   "execution_count": null,
   "id": "182aad11",
   "metadata": {},
   "outputs": [],
   "source": [
    "# Best Model : Random Forest"
   ]
  },
  {
   "cell_type": "code",
   "execution_count": null,
   "id": "8b8b68dd",
   "metadata": {},
   "outputs": [],
   "source": [
    "#Submission"
   ]
  },
  {
   "cell_type": "code",
   "execution_count": null,
   "id": "c59cead1",
   "metadata": {},
   "outputs": [],
   "source": [
    "df_base_test1 = df_base_test.copy()"
   ]
  },
  {
   "cell_type": "code",
   "execution_count": null,
   "id": "f57cb1d8",
   "metadata": {},
   "outputs": [],
   "source": [
    "df_base_test1 = df_base_test1.drop(['PassengerId'], axis=1)"
   ]
  },
  {
   "cell_type": "code",
   "execution_count": null,
   "id": "e7f53341",
   "metadata": {},
   "outputs": [],
   "source": [
    "predictions = model2.predict(df_base_test1)"
   ]
  },
  {
   "cell_type": "code",
   "execution_count": null,
   "id": "8f908728",
   "metadata": {},
   "outputs": [],
   "source": [
    "output = pd.DataFrame({'PassengerId': df_base_test.PassengerId, \n",
    "                       'Transported': predictions})"
   ]
  },
  {
   "cell_type": "code",
   "execution_count": null,
   "id": "1218bfb7",
   "metadata": {},
   "outputs": [],
   "source": [
    "output['Transported'] = np.where(output['Transported'] == 1, True, False)"
   ]
  },
  {
   "cell_type": "code",
   "execution_count": null,
   "id": "b63903b0",
   "metadata": {},
   "outputs": [],
   "source": [
    "output.to_csv('submission.csv', index=False)"
   ]
  },
  {
   "cell_type": "code",
   "execution_count": null,
   "id": "432854fc",
   "metadata": {},
   "outputs": [],
   "source": []
  },
  {
   "cell_type": "code",
   "execution_count": null,
   "id": "4b6e3bf1",
   "metadata": {},
   "outputs": [],
   "source": []
  }
 ],
 "metadata": {
  "kernelspec": {
   "display_name": "Python 3",
   "language": "python",
   "name": "python3"
  },
  "language_info": {
   "codemirror_mode": {
    "name": "ipython",
    "version": 3
   },
   "file_extension": ".py",
   "mimetype": "text/x-python",
   "name": "python",
   "nbconvert_exporter": "python",
   "pygments_lexer": "ipython3",
   "version": "3.12.0"
  }
 },
 "nbformat": 4,
 "nbformat_minor": 5
}
